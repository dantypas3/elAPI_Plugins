{
 "cells": [
  {
   "metadata": {
    "ExecuteTime": {
     "end_time": "2025-06-13T12:17:09.761881Z",
     "start_time": "2025-06-13T12:17:09.117027Z"
    }
   },
   "cell_type": "code",
   "source": [
    "from pathlib import Path\n",
    "from typing import Union\n",
    "from utils import resource_utils\n",
    "from plugins.resources import patch_resources\n",
    "import pandas as pd"
   ],
   "id": "f179cfd9075946a4",
   "outputs": [
    {
     "data": {
      "text/plain": [
       "\u001B[34mINFO    \u001B[0m Directory \u001B[33mPATH\u001B[0m=\u001B[35mC\u001B[0m:\\Users\\pj8\\PycharmProjects\\elAPI_Plugins\\tests\\nul\\elapi from                 \u001B[2mpath.py:156\u001B[0m\n",
       "         \u001B[33mSOURCE\u001B[0m=\u001B[35mnul\u001B[0m\\elapi could not be found. An attempt to create directory                            \u001B[2m           \u001B[0m\n",
       "         C:\\Users\\pj8\\PycharmProjects\\elAPI_Plugins\\tests\\nul\\elapi will be made.                       \u001B[2m           \u001B[0m\n"
      ],
      "text/html": [
       "<pre style=\"white-space:pre;overflow-x:auto;line-height:normal;font-family:Menlo,'DejaVu Sans Mono',consolas,'Courier New',monospace\"><span style=\"color: #000080; text-decoration-color: #000080\">INFO    </span> Directory <span style=\"color: #808000; text-decoration-color: #808000\">PATH</span>=<span style=\"color: #800080; text-decoration-color: #800080\">C</span>:\\Users\\pj8\\PycharmProjects\\elAPI_Plugins\\tests\\nul\\elapi from                 <span style=\"color: #7f7f7f; text-decoration-color: #7f7f7f\">path.py:156</span>\n",
       "         <span style=\"color: #808000; text-decoration-color: #808000\">SOURCE</span>=<span style=\"color: #800080; text-decoration-color: #800080\">nul</span>\\elapi could not be found. An attempt to create directory                            <span style=\"color: #7f7f7f; text-decoration-color: #7f7f7f\">           </span>\n",
       "         C:\\Users\\pj8\\PycharmProjects\\elAPI_Plugins\\tests\\nul\\elapi will be made.                       <span style=\"color: #7f7f7f; text-decoration-color: #7f7f7f\">           </span>\n",
       "</pre>\n"
      ]
     },
     "metadata": {},
     "output_type": "display_data"
    },
    {
     "data": {
      "text/plain": [
       "\u001B[1;31mERROR   \u001B[0m \u001B[1m[\u001B[0mWinError \u001B[1;36m3\u001B[0m\u001B[1m]\u001B[0m Das System kann den angegebenen Pfad nicht finden:                                \u001B[2mpath.py:176\u001B[0m\n",
       "         \u001B[32m'C:\\\\Users\\\\pj8\\\\PycharmProjects\\\\elAPI_Plugins\\\\tests\\\\nul\\\\elapi'\u001B[0m                            \u001B[2m           \u001B[0m\n"
      ],
      "text/html": [
       "<pre style=\"white-space:pre;overflow-x:auto;line-height:normal;font-family:Menlo,'DejaVu Sans Mono',consolas,'Courier New',monospace\"><span style=\"color: #800000; text-decoration-color: #800000; font-weight: bold\">ERROR   </span> <span style=\"font-weight: bold\">[</span>WinError <span style=\"color: #008080; text-decoration-color: #008080; font-weight: bold\">3</span><span style=\"font-weight: bold\">]</span> Das System kann den angegebenen Pfad nicht finden:                                <span style=\"color: #7f7f7f; text-decoration-color: #7f7f7f\">path.py:176</span>\n",
       "         <span style=\"color: #008000; text-decoration-color: #008000\">'C:\\\\Users\\\\pj8\\\\PycharmProjects\\\\elAPI_Plugins\\\\tests\\\\nul\\\\elapi'</span>                            <span style=\"color: #7f7f7f; text-decoration-color: #7f7f7f\">           </span>\n",
       "</pre>\n"
      ]
     },
     "metadata": {},
     "output_type": "display_data"
    }
   ],
   "execution_count": 1
  },
  {
   "metadata": {
    "ExecuteTime": {
     "end_time": "2025-06-13T12:17:09.872873Z",
     "start_time": "2025-06-13T12:17:09.868801Z"
    }
   },
   "cell_type": "code",
   "source": "session = resource_utils.FixedCategoryEndpoint()",
   "id": "bc6b45564adb9e6b",
   "outputs": [],
   "execution_count": 2
  },
  {
   "metadata": {
    "ExecuteTime": {
     "end_time": "2025-06-13T12:17:10.172334Z",
     "start_time": "2025-06-13T12:17:09.880024Z"
    }
   },
   "cell_type": "code",
   "source": [
    "session = resource_utils.FixedCategoryEndpoint()\n",
    "categories = session.get().json()\n",
    "df_categories = pd.json_normalize(categories)\n",
    "print(\"ID  Title\")\n",
    "for category in categories:\n",
    "    print(f\"{category['id']}: {category['title']}\")"
   ],
   "id": "183a6c7085ea2eee",
   "outputs": [
    {
     "name": "stdout",
     "output_type": "stream",
     "text": [
      "ID  Title\n",
      "434: Information\n",
      "489: Recipes\n",
      "488: ISA - Study\n",
      "487: ISA - Investigation\n",
      "483: BZH info\n",
      "482: Instruments and Machines\n",
      "456: labfolder project\n",
      "437: Group meeting\n",
      "435: other\n",
      "420: Group landing page\n",
      "421: Antibody\n",
      "422: mutant\n",
      "423: Resource overview\n",
      "424: Methods\n",
      "426: Plasmid\n",
      "427: compound\n",
      "428: meta-analysis\n"
     ]
    }
   ],
   "execution_count": 3
  },
  {
   "metadata": {
    "ExecuteTime": {
     "end_time": "2025-06-13T12:17:10.274940Z",
     "start_time": "2025-06-13T12:17:10.195531Z"
    }
   },
   "cell_type": "code",
   "source": "cat = session.get(426).json()",
   "id": "96e5b398af934b5",
   "outputs": [],
   "execution_count": 4
  },
  {
   "metadata": {
    "ExecuteTime": {
     "end_time": "2025-06-13T12:17:10.624024Z",
     "start_time": "2025-06-13T12:17:10.300553Z"
    }
   },
   "cell_type": "code",
   "source": [
    "res_session = resource_utils.FixedResourceEndpoint()\n",
    "res = res_session.get(query = {\"cat\" : 426})"
   ],
   "id": "80e4deb216be0dae",
   "outputs": [],
   "execution_count": 5
  },
  {
   "metadata": {
    "ExecuteTime": {
     "end_time": "2025-06-13T12:17:10.643613Z",
     "start_time": "2025-06-13T12:17:10.635921Z"
    }
   },
   "cell_type": "code",
   "source": [
    "df_res  = pd.json_normalize(res.json())\n",
    "type(df_res)"
   ],
   "id": "2bb78c88fd46df14",
   "outputs": [
    {
     "data": {
      "text/plain": [
       "pandas.core.frame.DataFrame"
      ]
     },
     "execution_count": 6,
     "metadata": {},
     "output_type": "execute_result"
    }
   ],
   "execution_count": 6
  },
  {
   "metadata": {
    "ExecuteTime": {
     "end_time": "2025-06-13T12:17:10.675452Z",
     "start_time": "2025-06-13T12:17:10.667066Z"
    }
   },
   "cell_type": "code",
   "source": [
    "df_res.drop(columns=[\"team\", \"elabid\", \"category\", \"locked\", \"lockedby\", \"locked_at\", \"userid\", \"canread\", \"canwrite\", \"available\",\"lastchangeby\",\"state\",\"events_start\",\"content_type\",\"created_at\",\"access_key\",\"is_bookable\",\"canbook\",\"book_max_minutes\",\"book_max_slots\",\"book_can_overlap\",\"book_is_cancellable\",\"book_cancel_minutes\",\"status\",\"custom_id\",\"timestamped\",\"timestampedby\",\"timestamped_at\",\"book_users_can_in_past\",\"is_procurable\",\"proc_pack_qty\",\"proc_price_notax\",\"proc_price_tax\",\"proc_currency\",\"page\",\"type\",\"status_color\",\"category_color\",\"recent_comment\",\"has_comment\",\"tags_id\",\"events_start_itemid\",\"next_step\",\"firstname\",\"lastname\",\"orcid\",\"up_item_id\"], inplace = True)\n",
    "\n",
    "#TODO has_attachment -> Yes/No"
   ],
   "id": "75ce1fee16914239",
   "outputs": [],
   "execution_count": 7
  },
  {
   "metadata": {
    "ExecuteTime": {
     "end_time": "2025-06-13T12:17:10.710256Z",
     "start_time": "2025-06-13T12:17:10.700696Z"
    }
   },
   "cell_type": "code",
   "source": [
    "df_extra_fields = df_res[[\"id\",\"metadata\"]]\n",
    "df_extra_fields.reset_index()\n",
    "df_extra_fields"
   ],
   "id": "c7216a79998c13ee",
   "outputs": [
    {
     "data": {
      "text/plain": [
       "       id                                           metadata\n",
       "0   10130  {\"extra_fields\": {\"MM section\": {\"type\": \"text...\n",
       "1    9694  {\"extra_fields\": {\"insert\": {\"type\": \"text\", \"...\n",
       "2    9693  {\"extra_fields\": {\"insert\": {\"type\": \"text\", \"...\n",
       "3    9692  {\"extra_fields\": {\"insert\": {\"type\": \"text\", \"...\n",
       "4    9691  {\"extra_fields\": {\"insert\": {\"type\": \"text\", \"...\n",
       "5    9690  {\"extra_fields\": {\"link\": {\"type\": \"items\", \"v...\n",
       "6    9595  {\"extra_fields\": {\"insert\": {\"type\": \"text\", \"...\n",
       "7    9594  {\"extra_fields\": {\"insert\": {\"type\": \"text\", \"...\n",
       "8    9593  {\"extra_fields\": {\"insert\": {\"type\": \"text\", \"...\n",
       "9    9592  {\"extra_fields\": {\"insert\": {\"type\": \"text\", \"...\n",
       "10   9590  {\"extra_fields\": {\"test\": {\"type\": \"text\", \"va...\n",
       "11   9589  {\"extra_fields\": {\"test\": {\"type\": \"text\", \"va...\n",
       "12   9588  {\"extra_fields\": {\"test\": {\"type\": \"text\", \"va...\n",
       "13   9587  {\"extra_fields\": {\"test\": {\"type\": \"text\", \"va...\n",
       "14   9551  {\"extra_fields\": {\"test\": {\"type\": \"text\", \"va..."
      ],
      "text/html": [
       "<div>\n",
       "<style scoped>\n",
       "    .dataframe tbody tr th:only-of-type {\n",
       "        vertical-align: middle;\n",
       "    }\n",
       "\n",
       "    .dataframe tbody tr th {\n",
       "        vertical-align: top;\n",
       "    }\n",
       "\n",
       "    .dataframe thead th {\n",
       "        text-align: right;\n",
       "    }\n",
       "</style>\n",
       "<table border=\"1\" class=\"dataframe\">\n",
       "  <thead>\n",
       "    <tr style=\"text-align: right;\">\n",
       "      <th></th>\n",
       "      <th>id</th>\n",
       "      <th>metadata</th>\n",
       "    </tr>\n",
       "  </thead>\n",
       "  <tbody>\n",
       "    <tr>\n",
       "      <th>0</th>\n",
       "      <td>10130</td>\n",
       "      <td>{\"extra_fields\": {\"MM section\": {\"type\": \"text...</td>\n",
       "    </tr>\n",
       "    <tr>\n",
       "      <th>1</th>\n",
       "      <td>9694</td>\n",
       "      <td>{\"extra_fields\": {\"insert\": {\"type\": \"text\", \"...</td>\n",
       "    </tr>\n",
       "    <tr>\n",
       "      <th>2</th>\n",
       "      <td>9693</td>\n",
       "      <td>{\"extra_fields\": {\"insert\": {\"type\": \"text\", \"...</td>\n",
       "    </tr>\n",
       "    <tr>\n",
       "      <th>3</th>\n",
       "      <td>9692</td>\n",
       "      <td>{\"extra_fields\": {\"insert\": {\"type\": \"text\", \"...</td>\n",
       "    </tr>\n",
       "    <tr>\n",
       "      <th>4</th>\n",
       "      <td>9691</td>\n",
       "      <td>{\"extra_fields\": {\"insert\": {\"type\": \"text\", \"...</td>\n",
       "    </tr>\n",
       "    <tr>\n",
       "      <th>5</th>\n",
       "      <td>9690</td>\n",
       "      <td>{\"extra_fields\": {\"link\": {\"type\": \"items\", \"v...</td>\n",
       "    </tr>\n",
       "    <tr>\n",
       "      <th>6</th>\n",
       "      <td>9595</td>\n",
       "      <td>{\"extra_fields\": {\"insert\": {\"type\": \"text\", \"...</td>\n",
       "    </tr>\n",
       "    <tr>\n",
       "      <th>7</th>\n",
       "      <td>9594</td>\n",
       "      <td>{\"extra_fields\": {\"insert\": {\"type\": \"text\", \"...</td>\n",
       "    </tr>\n",
       "    <tr>\n",
       "      <th>8</th>\n",
       "      <td>9593</td>\n",
       "      <td>{\"extra_fields\": {\"insert\": {\"type\": \"text\", \"...</td>\n",
       "    </tr>\n",
       "    <tr>\n",
       "      <th>9</th>\n",
       "      <td>9592</td>\n",
       "      <td>{\"extra_fields\": {\"insert\": {\"type\": \"text\", \"...</td>\n",
       "    </tr>\n",
       "    <tr>\n",
       "      <th>10</th>\n",
       "      <td>9590</td>\n",
       "      <td>{\"extra_fields\": {\"test\": {\"type\": \"text\", \"va...</td>\n",
       "    </tr>\n",
       "    <tr>\n",
       "      <th>11</th>\n",
       "      <td>9589</td>\n",
       "      <td>{\"extra_fields\": {\"test\": {\"type\": \"text\", \"va...</td>\n",
       "    </tr>\n",
       "    <tr>\n",
       "      <th>12</th>\n",
       "      <td>9588</td>\n",
       "      <td>{\"extra_fields\": {\"test\": {\"type\": \"text\", \"va...</td>\n",
       "    </tr>\n",
       "    <tr>\n",
       "      <th>13</th>\n",
       "      <td>9587</td>\n",
       "      <td>{\"extra_fields\": {\"test\": {\"type\": \"text\", \"va...</td>\n",
       "    </tr>\n",
       "    <tr>\n",
       "      <th>14</th>\n",
       "      <td>9551</td>\n",
       "      <td>{\"extra_fields\": {\"test\": {\"type\": \"text\", \"va...</td>\n",
       "    </tr>\n",
       "  </tbody>\n",
       "</table>\n",
       "</div>"
      ]
     },
     "execution_count": 8,
     "metadata": {},
     "output_type": "execute_result"
    }
   ],
   "execution_count": 8
  },
  {
   "metadata": {
    "ExecuteTime": {
     "end_time": "2025-06-13T12:17:10.758571Z",
     "start_time": "2025-06-13T12:17:10.753009Z"
    }
   },
   "cell_type": "code",
   "source": [
    "import json\n",
    "parsed_metadata = df_extra_fields[\"metadata\"].apply(json.loads)\n",
    "extra_fields = parsed_metadata.apply(lambda d: d.get(\"extra_fields\", {}))"
   ],
   "id": "7f7f9bad0256eff5",
   "outputs": [],
   "execution_count": 9
  },
  {
   "metadata": {
    "ExecuteTime": {
     "end_time": "2025-06-13T12:17:10.800037Z",
     "start_time": "2025-06-13T12:17:10.794165Z"
    }
   },
   "cell_type": "code",
   "source": "df_extra_fields",
   "id": "11b33c3540b9a8de",
   "outputs": [
    {
     "data": {
      "text/plain": [
       "       id                                           metadata\n",
       "0   10130  {\"extra_fields\": {\"MM section\": {\"type\": \"text...\n",
       "1    9694  {\"extra_fields\": {\"insert\": {\"type\": \"text\", \"...\n",
       "2    9693  {\"extra_fields\": {\"insert\": {\"type\": \"text\", \"...\n",
       "3    9692  {\"extra_fields\": {\"insert\": {\"type\": \"text\", \"...\n",
       "4    9691  {\"extra_fields\": {\"insert\": {\"type\": \"text\", \"...\n",
       "5    9690  {\"extra_fields\": {\"link\": {\"type\": \"items\", \"v...\n",
       "6    9595  {\"extra_fields\": {\"insert\": {\"type\": \"text\", \"...\n",
       "7    9594  {\"extra_fields\": {\"insert\": {\"type\": \"text\", \"...\n",
       "8    9593  {\"extra_fields\": {\"insert\": {\"type\": \"text\", \"...\n",
       "9    9592  {\"extra_fields\": {\"insert\": {\"type\": \"text\", \"...\n",
       "10   9590  {\"extra_fields\": {\"test\": {\"type\": \"text\", \"va...\n",
       "11   9589  {\"extra_fields\": {\"test\": {\"type\": \"text\", \"va...\n",
       "12   9588  {\"extra_fields\": {\"test\": {\"type\": \"text\", \"va...\n",
       "13   9587  {\"extra_fields\": {\"test\": {\"type\": \"text\", \"va...\n",
       "14   9551  {\"extra_fields\": {\"test\": {\"type\": \"text\", \"va..."
      ],
      "text/html": [
       "<div>\n",
       "<style scoped>\n",
       "    .dataframe tbody tr th:only-of-type {\n",
       "        vertical-align: middle;\n",
       "    }\n",
       "\n",
       "    .dataframe tbody tr th {\n",
       "        vertical-align: top;\n",
       "    }\n",
       "\n",
       "    .dataframe thead th {\n",
       "        text-align: right;\n",
       "    }\n",
       "</style>\n",
       "<table border=\"1\" class=\"dataframe\">\n",
       "  <thead>\n",
       "    <tr style=\"text-align: right;\">\n",
       "      <th></th>\n",
       "      <th>id</th>\n",
       "      <th>metadata</th>\n",
       "    </tr>\n",
       "  </thead>\n",
       "  <tbody>\n",
       "    <tr>\n",
       "      <th>0</th>\n",
       "      <td>10130</td>\n",
       "      <td>{\"extra_fields\": {\"MM section\": {\"type\": \"text...</td>\n",
       "    </tr>\n",
       "    <tr>\n",
       "      <th>1</th>\n",
       "      <td>9694</td>\n",
       "      <td>{\"extra_fields\": {\"insert\": {\"type\": \"text\", \"...</td>\n",
       "    </tr>\n",
       "    <tr>\n",
       "      <th>2</th>\n",
       "      <td>9693</td>\n",
       "      <td>{\"extra_fields\": {\"insert\": {\"type\": \"text\", \"...</td>\n",
       "    </tr>\n",
       "    <tr>\n",
       "      <th>3</th>\n",
       "      <td>9692</td>\n",
       "      <td>{\"extra_fields\": {\"insert\": {\"type\": \"text\", \"...</td>\n",
       "    </tr>\n",
       "    <tr>\n",
       "      <th>4</th>\n",
       "      <td>9691</td>\n",
       "      <td>{\"extra_fields\": {\"insert\": {\"type\": \"text\", \"...</td>\n",
       "    </tr>\n",
       "    <tr>\n",
       "      <th>5</th>\n",
       "      <td>9690</td>\n",
       "      <td>{\"extra_fields\": {\"link\": {\"type\": \"items\", \"v...</td>\n",
       "    </tr>\n",
       "    <tr>\n",
       "      <th>6</th>\n",
       "      <td>9595</td>\n",
       "      <td>{\"extra_fields\": {\"insert\": {\"type\": \"text\", \"...</td>\n",
       "    </tr>\n",
       "    <tr>\n",
       "      <th>7</th>\n",
       "      <td>9594</td>\n",
       "      <td>{\"extra_fields\": {\"insert\": {\"type\": \"text\", \"...</td>\n",
       "    </tr>\n",
       "    <tr>\n",
       "      <th>8</th>\n",
       "      <td>9593</td>\n",
       "      <td>{\"extra_fields\": {\"insert\": {\"type\": \"text\", \"...</td>\n",
       "    </tr>\n",
       "    <tr>\n",
       "      <th>9</th>\n",
       "      <td>9592</td>\n",
       "      <td>{\"extra_fields\": {\"insert\": {\"type\": \"text\", \"...</td>\n",
       "    </tr>\n",
       "    <tr>\n",
       "      <th>10</th>\n",
       "      <td>9590</td>\n",
       "      <td>{\"extra_fields\": {\"test\": {\"type\": \"text\", \"va...</td>\n",
       "    </tr>\n",
       "    <tr>\n",
       "      <th>11</th>\n",
       "      <td>9589</td>\n",
       "      <td>{\"extra_fields\": {\"test\": {\"type\": \"text\", \"va...</td>\n",
       "    </tr>\n",
       "    <tr>\n",
       "      <th>12</th>\n",
       "      <td>9588</td>\n",
       "      <td>{\"extra_fields\": {\"test\": {\"type\": \"text\", \"va...</td>\n",
       "    </tr>\n",
       "    <tr>\n",
       "      <th>13</th>\n",
       "      <td>9587</td>\n",
       "      <td>{\"extra_fields\": {\"test\": {\"type\": \"text\", \"va...</td>\n",
       "    </tr>\n",
       "    <tr>\n",
       "      <th>14</th>\n",
       "      <td>9551</td>\n",
       "      <td>{\"extra_fields\": {\"test\": {\"type\": \"text\", \"va...</td>\n",
       "    </tr>\n",
       "  </tbody>\n",
       "</table>\n",
       "</div>"
      ]
     },
     "execution_count": 10,
     "metadata": {},
     "output_type": "execute_result"
    }
   ],
   "execution_count": 10
  },
  {
   "metadata": {
    "ExecuteTime": {
     "end_time": "2025-06-13T12:17:10.887300Z",
     "start_time": "2025-06-13T12:17:10.882849Z"
    }
   },
   "cell_type": "code",
   "source": [
    "flattened_values = extra_fields.apply(\n",
    "    lambda field_dict: {\n",
    "        k: v.get(\"value\") if isinstance(v, dict) else None\n",
    "        for k, v in field_dict.items()\n",
    "    }\n",
    ")"
   ],
   "id": "350cfaa4f17903a1",
   "outputs": [],
   "execution_count": 11
  },
  {
   "metadata": {
    "ExecuteTime": {
     "end_time": "2025-06-13T12:17:10.931119Z",
     "start_time": "2025-06-13T12:17:10.925927Z"
    }
   },
   "cell_type": "code",
   "source": "df_flat = pd.DataFrame(flattened_values.tolist())",
   "id": "d115eab9ad721a4b",
   "outputs": [],
   "execution_count": 12
  },
  {
   "metadata": {
    "ExecuteTime": {
     "end_time": "2025-06-13T12:17:10.963720Z",
     "start_time": "2025-06-13T12:17:10.959232Z"
    }
   },
   "cell_type": "code",
   "source": "df_flat[\"id\"] = df_extra_fields[\"id\"].values  # or use index if needed",
   "id": "d3c6a16877f797a8",
   "outputs": [],
   "execution_count": 13
  },
  {
   "metadata": {
    "ExecuteTime": {
     "end_time": "2025-06-13T12:17:11.003558Z",
     "start_time": "2025-06-13T12:17:10.993222Z"
    }
   },
   "cell_type": "code",
   "source": "df_final = df_res.drop(columns=\"metadata\").merge(df_flat, on=\"id\", how=\"left\")",
   "id": "d172da5c09fa37a8",
   "outputs": [],
   "execution_count": 14
  },
  {
   "metadata": {
    "ExecuteTime": {
     "end_time": "2025-06-13T12:17:30.933820Z",
     "start_time": "2025-06-13T12:17:30.900116Z"
    }
   },
   "cell_type": "code",
   "source": "df_final.to_excel(\"res2.xlsx\", index = False)",
   "id": "605f29a13afd435b",
   "outputs": [],
   "execution_count": 16
  }
 ],
 "metadata": {
  "kernelspec": {
   "display_name": "Python 3",
   "language": "python",
   "name": "python3"
  },
  "language_info": {
   "codemirror_mode": {
    "name": "ipython",
    "version": 2
   },
   "file_extension": ".py",
   "mimetype": "text/x-python",
   "name": "python",
   "nbconvert_exporter": "python",
   "pygments_lexer": "ipython2",
   "version": "2.7.6"
  }
 },
 "nbformat": 4,
 "nbformat_minor": 5
}
